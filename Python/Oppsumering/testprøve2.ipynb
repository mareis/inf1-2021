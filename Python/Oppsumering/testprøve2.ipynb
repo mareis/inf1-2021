{
 "metadata": {
  "language_info": {
   "codemirror_mode": {
    "name": "ipython",
    "version": 3
   },
   "file_extension": ".py",
   "mimetype": "text/x-python",
   "name": "python",
   "nbconvert_exporter": "python",
   "pygments_lexer": "ipython3",
   "version": "3.8.2-final"
  },
  "orig_nbformat": 2,
  "kernelspec": {
   "name": "python3",
   "display_name": "Python 3.8.2 64-bit",
   "metadata": {
    "interpreter": {
     "hash": "31f2aee4e71d21fbe5cf8b01ff0e069b9275f58929596ceb00d14d90e3e16cd6"
    }
   }
  }
 },
 "nbformat": 4,
 "nbformat_minor": 2,
 "cells": [
  {
   "source": [
    "# Prøve"
   ],
   "cell_type": "markdown",
   "metadata": {}
  },
  {
   "source": [
    "### Oppgave 1.1\n",
    "Lag et program som skriver ut \"Du går på Molde vgs\". Navnet på skolen skal være lagret i en variabel *skole*\n",
    "\n",
    "#### Løsning:"
   ],
   "cell_type": "markdown",
   "metadata": {}
  },
  {
   "cell_type": "code",
   "execution_count": null,
   "metadata": {},
   "outputs": [],
   "source": []
  },
  {
   "source": [
    "<b>Utvid</b> programmet til å spørre om hvilken skole du går på med en imput\n",
    "\n",
    "#### Løsning:"
   ],
   "cell_type": "markdown",
   "metadata": {}
  },
  {
   "cell_type": "code",
   "execution_count": null,
   "metadata": {},
   "outputs": [],
   "source": []
  },
  {
   "source": [
    "### Oppgave 1.2\n",
    "Opprett variabler a og en variabel b med verdiene 12 og 30. Skriv ut summen og produktet til variablene.\n",
    "\n",
    "#### Løsning:"
   ],
   "cell_type": "markdown",
   "metadata": {}
  },
  {
   "cell_type": "code",
   "execution_count": null,
   "metadata": {},
   "outputs": [],
   "source": []
  },
  {
   "source": [
    "### Oppgave 2.1\n",
    "Lag et program som skriver ut \"Nå er det jul igjen.\" 5 ganger ved hjelp av en for-løkke."
   ],
   "cell_type": "markdown",
   "metadata": {}
  },
  {
   "cell_type": "code",
   "execution_count": null,
   "metadata": {},
   "outputs": [],
   "source": []
  },
  {
   "source": [
    "### Oppgave 2.2\n",
    "a) Lag en liste med 5 tall.\n"
   ],
   "cell_type": "markdown",
   "metadata": {}
  },
  {
   "cell_type": "code",
   "execution_count": null,
   "metadata": {},
   "outputs": [],
   "source": []
  },
  {
   "source": [
    "b)  Skriv ut vardien til det 2  tallet."
   ],
   "cell_type": "markdown",
   "metadata": {}
  },
  {
   "cell_type": "code",
   "execution_count": null,
   "metadata": {},
   "outputs": [],
   "source": []
  },
  {
   "source": [
    "c) Bruk en for-løkket til å skrive ut alle tallene i lesta."
   ],
   "cell_type": "markdown",
   "metadata": {}
  },
  {
   "cell_type": "code",
   "execution_count": null,
   "metadata": {},
   "outputs": [],
   "source": []
  },
  {
   "source": [
    "d) Bruk en for-løkke og skriv bare ut tallene i lisa som er større enn 5."
   ],
   "cell_type": "markdown",
   "metadata": {}
  },
  {
   "source": [],
   "cell_type": "code",
   "metadata": {},
   "execution_count": null,
   "outputs": []
  },
  {
   "source": [
    "e) Bruk en for-løkke til å bestemme summen til tallene i lista. Skriv ut summen. "
   ],
   "cell_type": "markdown",
   "metadata": {}
  },
  {
   "cell_type": "code",
   "execution_count": null,
   "metadata": {},
   "outputs": [],
   "source": []
  },
  {
   "source": [
    "### Oppgave 2.2\n",
    "Lag et program ved hjelp av en for-løkke som skriver ut:\n",
    "\n",
    "a) Alle heltall fra og med 0 til og med 10."
   ],
   "cell_type": "markdown",
   "metadata": {}
  },
  {
   "cell_type": "code",
   "execution_count": null,
   "metadata": {},
   "outputs": [],
   "source": []
  },
  {
   "source": [
    "b) Alle heltall fra og med 1 til og med 7."
   ],
   "cell_type": "markdown",
   "metadata": {}
  },
  {
   "cell_type": "code",
   "execution_count": null,
   "metadata": {},
   "outputs": [],
   "source": []
  },
  {
   "source": [
    "c) Alle heltall fra og med -3 til og med 3."
   ],
   "cell_type": "markdown",
   "metadata": {}
  },
  {
   "cell_type": "code",
   "execution_count": null,
   "metadata": {},
   "outputs": [],
   "source": []
  },
  {
   "source": [
    "### Oppgave 3.1\n",
    "\n",
    "Fullfør programmet slik at det skriver ut verdien til variabelen a"
   ],
   "cell_type": "markdown",
   "metadata": {}
  },
  {
   "cell_type": "code",
   "execution_count": null,
   "metadata": {},
   "outputs": [],
   "source": [
    "a = 2\n",
    "b = 3\n",
    "\n",
    "if ...:\n",
    "    print(a)\n",
    "\n",
    "else:\n",
    "    print(b)"
   ]
  },
  {
   "source": [
    "### Oppgave 4.1\n",
    "\n",
    "Lag en funksjon som returnerer: \n",
    "\n",
    "a) Kvadratet til et tall."
   ],
   "cell_type": "markdown",
   "metadata": {}
  },
  {
   "cell_type": "code",
   "execution_count": null,
   "metadata": {},
   "outputs": [],
   "source": []
  },
  {
   "source": [
    "b) Bruk funksjonen til å skrive ut kvadratet til 2 og 8."
   ],
   "cell_type": "markdown",
   "metadata": {}
  },
  {
   "cell_type": "code",
   "execution_count": null,
   "metadata": {},
   "outputs": [],
   "source": []
  },
  {
   "source": [
    "b) Bruk funksjonen og en for-løkke til å skrive ut kvadratet til tallene fra og med 1 til og med 10"
   ],
   "cell_type": "markdown",
   "metadata": {}
  },
  {
   "cell_type": "code",
   "execution_count": null,
   "metadata": {},
   "outputs": [],
   "source": []
  },
  {
   "source": [
    "### Oppgave 4.2\n",
    "\n",
    "Lag en funksjon, utskrift, som tar to argument, navn og antall \"ender pearls\".\n",
    "\n",
    "```utskrift(\"Steve\", 4)```   skal resultere i utskriften: Steve has 4 ender pearls."
   ],
   "cell_type": "markdown",
   "metadata": {}
  },
  {
   "cell_type": "code",
   "execution_count": null,
   "metadata": {},
   "outputs": [],
   "source": []
  },
  {
   "source": [
    "**Utvid** programmet til å skrive ut ulik tekst avhengig av antall \"ender pearls\" \n",
    " \n",
    "- Hvis antallet er 12 eller større, f.eks:\n",
    "\n",
    "    ```utskrift(\"Alex\", 14)```\n",
    "    \n",
    "    *Steve has 14 ender pearls and is ready for the end.*\n",
    "\n",
    "\n",
    "- Hvis antallet er mindre enn 12, f.eks:\n",
    "\n",
    "    ```utskrift(\"Steve\", 5)```\n",
    "\n",
    "    *Steve has 5 ender pearls and is not ready for the end.*\n",
    "\n",
    " "
   ],
   "cell_type": "markdown",
   "metadata": {}
  },
  {
   "cell_type": "code",
   "execution_count": null,
   "metadata": {},
   "outputs": [],
   "source": []
  },
  {
   "source": [
    "### Oppgave 5.1\n",
    "\n",
    "Lag et dictionary til følgende informasjon. \n",
    "\n",
    "En figur heter Steve, har former som en kube, ferierer i Nether og er på nivå 32.\n",
    "\n",
    "#### Løsning:"
   ],
   "cell_type": "markdown",
   "metadata": {}
  },
  {
   "cell_type": "code",
   "execution_count": null,
   "metadata": {},
   "outputs": [],
   "source": []
  },
  {
   "source": [
    "### Utfordring\n",
    "\n",
    "Hvis vi lister opp alle naturlige tall (heltall større enn 0) mindre enn 10, som har 3 eller 5 som faktor, får vi 3, 5, 6 og 9. Summen til disse tallene er 23.\n",
    "\n",
    "Finn summen av alle slike tall som er mindre enn 1000."
   ],
   "cell_type": "markdown",
   "metadata": {}
  },
  {
   "cell_type": "code",
   "execution_count": null,
   "metadata": {},
   "outputs": [],
   "source": []
  }
 ]
}