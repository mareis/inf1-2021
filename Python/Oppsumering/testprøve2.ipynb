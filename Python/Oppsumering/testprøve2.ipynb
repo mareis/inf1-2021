{
 "metadata": {
  "language_info": {
   "codemirror_mode": {
    "name": "ipython",
    "version": 3
   },
   "file_extension": ".py",
   "mimetype": "text/x-python",
   "name": "python",
   "nbconvert_exporter": "python",
   "pygments_lexer": "ipython3",
   "version": "3.8.2-final"
  },
  "orig_nbformat": 2,
  "kernelspec": {
   "name": "python3",
   "display_name": "Python 3.8.2 64-bit",
   "metadata": {
    "interpreter": {
     "hash": "31f2aee4e71d21fbe5cf8b01ff0e069b9275f58929596ceb00d14d90e3e16cd6"
    }
   }
  }
 },
 "nbformat": 4,
 "nbformat_minor": 2,
 "cells": [
  {
   "source": [
    "# Testprøve"
   ],
   "cell_type": "markdown",
   "metadata": {}
  },
  {
   "source": [
    "### Oppgave 1.1\n",
    "Lag et program som skriver “Hei,navn!” til skjermen. Brukeren skal bes om å taste inn navnet sitt. Dette navnet skal lagres i en variabel, og så skrives ut som i setningen ovenfor. Husk også utropstegnet til slutt.\n",
    "\n",
    "#### Løsning:"
   ],
   "cell_type": "markdown",
   "metadata": {}
  },
  {
   "cell_type": "code",
   "execution_count": null,
   "metadata": {},
   "outputs": [],
   "source": []
  },
  {
   "source": [
    "<b>Utvid</b> programmet til å spørre om alderen din. La programmet skrive ut en kommentar til alderen din til slutt, for eksempel “din alder er jammen høy!”\n",
    "\n",
    "#### Løsning:"
   ],
   "cell_type": "markdown",
   "metadata": {}
  },
  {
   "cell_type": "code",
   "execution_count": null,
   "metadata": {},
   "outputs": [],
   "source": []
  },
  {
   "source": [
    "### Oppgave 1.2\n",
    "Forklar hva som er forskjellen mellom kodene\n",
    "\n",
    "```\n",
    "    print(a/(b*c))\n",
    "```\n",
    "\n",
    "og\n",
    "```\n",
    "\n",
    "    print(a/b*c)\n",
    "```"
   ],
   "cell_type": "markdown",
   "metadata": {}
  },
  {
   "source": [
    "#### Løsning:"
   ],
   "cell_type": "markdown",
   "metadata": {}
  },
  {
   "source": [
    "### Oppgave 1.3\n",
    "Hvert program i denne oppgava inneholder noen feil. Finn feilene\n",
    "og rett på dem slik at programmene kan kjøres korrekt. \n",
    "\n",
    "Programmet skal regne ut prisen på 3 kaffe- og 4 tepakker:\n",
    "\n",
    "```Python\n",
    "pris_kaffe = 45 kr\n",
    "pris_te = 40 kr\n",
    "totalpris = 3*pris_kaffe + 4*pris_te\n",
    "print(f'Total pris: {totalpris}')\n",
    "```\n",
    "\n",
    "#### Løsning:"
   ],
   "cell_type": "markdown",
   "metadata": {}
  },
  {
   "cell_type": "code",
   "execution_count": null,
   "metadata": {},
   "outputs": [],
   "source": []
  },
  {
   "source": [
    "### Oppgave 1.4\n",
    "Skriv et program som beregner hvor mange kroner, $p$ prosent av $k$ kroner utgjør. Programmet skal be brukeren om verdiene til $p$ og $k$.\n",
    "\n",
    "#### Løsning:"
   ],
   "cell_type": "markdown",
   "metadata": {}
  },
  {
   "cell_type": "code",
   "execution_count": null,
   "metadata": {},
   "outputs": [],
   "source": []
  },
  {
   "source": [
    "### Oppgave 2.1\n",
    "Lag et program som konverterer et vinkelmål i grader til radianer ved hjelp av en egendefinert funksjon.\n",
    "\n",
    "#### Løsning:"
   ],
   "cell_type": "markdown",
   "metadata": {}
  },
  {
   "cell_type": "code",
   "execution_count": null,
   "metadata": {},
   "outputs": [],
   "source": []
  },
  {
   "source": [
    "### Oppgave 2.2\n",
    "\n",
    "Lag en funksjon som returnerer: \n",
    "\n",
    "1. Arealet til en sirkel.\n",
    "\n",
    "2. Radius til en sirkel gitt diameteren.\n",
    "\n",
    "3. Omkretsen til en sirkel.\n",
    "\n",
    "4. Volumet til ei kule.\n",
    "\n",
    "5. Overflatearealet til ei kule."
   ],
   "cell_type": "markdown",
   "metadata": {}
  },
  {
   "cell_type": "code",
   "execution_count": 1,
   "metadata": {},
   "outputs": [],
   "source": [
    "#1\n",
    "\n",
    "\n",
    "#2\n",
    "\n",
    "\n",
    "#3\n",
    "\n",
    "\n",
    "#4\n",
    "\n",
    "\n",
    "#5\n"
   ]
  },
  {
   "source": [
    "### Oppgave 2.3\n",
    "Skriv en funksjon som tar inn ei rente i prosent, et beløp og et antall år $t$. Beløpet skal ligge i en bankkonto som argumenter. La funksjonen beregne og returnere hva beløpet blir når det tas ut fra kontoen etter $t$ år. Test om funksjonen din gir omtrent ≈ $162.89$ kroner etter at $100$ kr med $5$ % rente har ligget i bankkontoen i $10$ år.\n",
    "\n",
    "#### Løsning:"
   ],
   "cell_type": "markdown",
   "metadata": {}
  },
  {
   "cell_type": "code",
   "execution_count": null,
   "metadata": {},
   "outputs": [],
   "source": []
  },
  {
   "source": [
    "### Oppgave 3.1\n",
    "Lag et program som tar et tall som input. Programmet skal så vurdere og skrive ut om tallet er et positivt tall, negativt tall eller null.\n",
    "#### Løsning:"
   ],
   "cell_type": "markdown",
   "metadata": {}
  },
  {
   "cell_type": "code",
   "execution_count": null,
   "metadata": {},
   "outputs": [],
   "source": []
  },
  {
   "source": [
    "### Oppgave 3.2\n",
    "Lag en funksjon som tar to argumenter som skal være tall. Funksjonen skal finne det minste tallet og skrive ut dette.\n",
    "#### Løsning:"
   ],
   "cell_type": "markdown",
   "metadata": {}
  },
  {
   "cell_type": "code",
   "execution_count": null,
   "metadata": {},
   "outputs": [],
   "source": []
  },
  {
   "source": [
    "### Oppgave 3.3\n",
    "Lag et program som spør om brukeren har Windows-PC eller Mac. Lag et oppfølgingsspørsmål på hver av disse, der du gir to eller tre alternativer. Du kan for eksempel spørre om hvorfor brukeren har Windows-PC eller Mac. Skriv ut en passende kommentar til svaret.\n",
    "#### Løsning:"
   ],
   "cell_type": "markdown",
   "metadata": {}
  },
  {
   "cell_type": "code",
   "execution_count": null,
   "metadata": {},
   "outputs": [],
   "source": []
  },
  {
   "source": [
    "### Oppgave 4.1\n",
    "Lag et program som skriver ut:\n",
    "\n",
    "1. Alle heltall fra og med 0 til og med 10.\n",
    "\n",
    "2. Alle heltall fra 5 til 15.\n",
    "\n",
    "3. Alle partall fra og med 0 til og med 10.\n",
    "\n",
    "4. Alle oddetall fra og med 0 til og med 10.\n",
    "\n",
    "5. (<b>Utfordring</b>) Alle primtall til og med 100 \n",
    "(hint: bruk heltallsdivisjon og/eller\n",
    "modulus).\n",
    "\n",
    "#### Løsning:"
   ],
   "cell_type": "markdown",
   "metadata": {}
  },
  {
   "cell_type": "code",
   "execution_count": null,
   "metadata": {},
   "outputs": [],
   "source": []
  },
  {
   "source": [
    "### Oppgave 4.2\n",
    "\n",
    "Hensikten bak programmet under er at det skal skrive ut hvert 3. tall fra og med 5 til 20. Men dersom vi kjører programmet, skrives ingenting ut! Forklar hvorfor og rett på programmet slik at det skriver ut hvert 3. tall fra og med 5 til 20.\n",
    "\n",
    "```Python\n",
    "for tall in range(5,3,20):\n",
    "    print(tall)\n",
    "```\n",
    "\n",
    "#### Løsning:"
   ],
   "cell_type": "markdown",
   "metadata": {}
  },
  {
   "cell_type": "code",
   "execution_count": null,
   "metadata": {},
   "outputs": [],
   "source": []
  },
  {
   "source": [
    "### Oppgave 5.1\n",
    "\n",
    "Lag et program som skriver ut alle tallene i lista\n",
    "\n",
    "```Python\n",
    "tallene = [12, 5, 1, 4, 21, 3, 2, 9, 6]\n",
    "```\n",
    "\n",
    "#### Løsning:"
   ],
   "cell_type": "markdown",
   "metadata": {}
  },
  {
   "cell_type": "code",
   "execution_count": null,
   "metadata": {},
   "outputs": [],
   "source": []
  },
  {
   "source": [
    "Utvid programmet til også å bestemme summen til lista\n",
    "\n",
    "#### Løsning:"
   ],
   "cell_type": "markdown",
   "metadata": {}
  },
  {
   "cell_type": "code",
   "execution_count": null,
   "metadata": {},
   "outputs": [],
   "source": []
  },
  {
   "source": [
    "### Oppgave 5.2\n",
    "\n",
    "Lag et program som skriver ut alle navnene i lista\n",
    "\n",
    "```Python\n",
    "tallene = [\"Mario\", \"Luigi\", \"Peach\", \"Bowser\"]\n",
    "```\n",
    "\n",
    "#### Løsning:"
   ],
   "cell_type": "markdown",
   "metadata": {}
  },
  {
   "cell_type": "code",
   "execution_count": null,
   "metadata": {},
   "outputs": [],
   "source": []
  },
  {
   "source": [
    "### Oppgave 6.1\n",
    "\n",
    "Lag et dictionary til følgende informasjon. \n",
    "\n",
    "En stol er produsert av Ekornes, har 4 bein, er brun og koster 2000.00 kr\n",
    "\n",
    "#### Løsning:"
   ],
   "cell_type": "markdown",
   "metadata": {}
  },
  {
   "cell_type": "code",
   "execution_count": null,
   "metadata": {},
   "outputs": [],
   "source": []
  },
  {
   "source": [
    "Utvid programmet til å skrive ut informasjonen over fra dictionaryen"
   ],
   "cell_type": "markdown",
   "metadata": {}
  },
  {
   "source": [
    "### Oppgave 6.2\n",
    "Skriv ut alle stolene med en forløkke og legg til passende tekst.\n",
    "\n",
    "```Python\n",
    "stoler = [\n",
    "    {\"navn\": \"TIMEOUT HVILESTOL\", \"pris\": 17499},\n",
    "    {\"navn\": \"WANDA SPISESTOL\", \"pris\": 1199},\n",
    "    {\"navn\": \"DICTE SPISESTOL\", \"pris\": 1399},\n",
    "    {\"navn\": \"CARMEN SPISESTOL\", \"pris\": 1599},\n",
    "    {\"navn\": \"LOTTA SPISESTOL\", \"pris\": 1099}\n",
    "]\n",
    "```"
   ],
   "cell_type": "markdown",
   "metadata": {}
  },
  {
   "cell_type": "code",
   "execution_count": null,
   "metadata": {},
   "outputs": [],
   "source": []
  }
 ]
}