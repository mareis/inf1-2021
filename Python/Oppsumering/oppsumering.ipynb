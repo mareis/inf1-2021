{
 "metadata": {
  "language_info": {
   "codemirror_mode": {
    "name": "ipython",
    "version": 3
   },
   "file_extension": ".py",
   "mimetype": "text/x-python",
   "name": "python",
   "nbconvert_exporter": "python",
   "pygments_lexer": "ipython3",
   "version": "3.8.2-final"
  },
  "orig_nbformat": 2,
  "kernelspec": {
   "name": "python3",
   "display_name": "Python 3.8.2 64-bit",
   "metadata": {
    "interpreter": {
     "hash": "31f2aee4e71d21fbe5cf8b01ff0e069b9275f58929596ceb00d14d90e3e16cd6"
    }
   }
  }
 },
 "nbformat": 4,
 "nbformat_minor": 2,
 "cells": [
  {
   "source": [
    "# Oppsumering \n",
    "---\n",
    "**Innhold**\n",
    "- Variabler\n",
    "- f-string\n",
    "- Tester\n",
    "- Løkker\n",
    "- Funksjoner\n",
    "- Lister\n",
    "- Dictionary\n",
    "\n",
    "## 1. Variabler\n"
   ],
   "cell_type": "markdown",
   "metadata": {}
  },
  {
   "cell_type": "code",
   "execution_count": 14,
   "metadata": {},
   "outputs": [],
   "source": [
    "navn = \"Mario\"  # Tilordne varibler strenger (tekst med anførselstegn)\n",
    "alder = 35      # Tilordne variabler integer (heltall) \n",
    "høyde = 163.5   # Tilordne varibler flyttall/float (desimaltall)\n",
    "formue = 3212412.2363523   "
   ]
  },
  {
   "source": [
    "## 2. f-string"
   ],
   "cell_type": "markdown",
   "metadata": {}
  },
  {
   "cell_type": "code",
   "execution_count": 15,
   "metadata": {},
   "outputs": [
    {
     "output_type": "stream",
     "name": "stdout",
     "text": [
      "Mario er 35 år, 163.5 cm høy og har en formue på 3212412.24 kr.\n"
     ]
    }
   ],
   "source": [
    "utskrift = f\"{navn} er {alder} år, {høyde} cm høy og har en formue på {formue:.2f} kr.\"\n",
    "\n",
    "print(utskrift)"
   ]
  },
  {
   "source": [
    "## 3. Tester"
   ],
   "cell_type": "markdown",
   "metadata": {}
  },
  {
   "cell_type": "code",
   "execution_count": 16,
   "metadata": {},
   "outputs": [
    {
     "output_type": "stream",
     "name": "stdout",
     "text": [
      "Lillebroren din heter Luigi.\n"
     ]
    }
   ],
   "source": [
    "if navn == \"Mario\":\n",
    "    print(\"Lillebroren din heter Luigi.\")"
   ]
  },
  {
   "cell_type": "code",
   "execution_count": 17,
   "metadata": {},
   "outputs": [
    {
     "output_type": "execute_result",
     "data": {
      "text/plain": [
       "True"
      ]
     },
     "metadata": {},
     "execution_count": 17
    }
   ],
   "source": [
    "navn == \"Mario\""
   ]
  },
  {
   "cell_type": "code",
   "execution_count": 18,
   "metadata": {},
   "outputs": [
    {
     "output_type": "stream",
     "name": "stdout",
     "text": [
      "Du begynner å bli gammel.\n"
     ]
    }
   ],
   "source": [
    "if alder > 30: \n",
    "    print(\"Du begynner å bli gammel.\")"
   ]
  },
  {
   "cell_type": "code",
   "execution_count": 19,
   "metadata": {},
   "outputs": [
    {
     "output_type": "execute_result",
     "data": {
      "text/plain": [
       "False"
      ]
     },
     "metadata": {},
     "execution_count": 19
    }
   ],
   "source": [
    "alder < 30"
   ]
  },
  {
   "cell_type": "code",
   "execution_count": 20,
   "metadata": {},
   "outputs": [
    {
     "output_type": "stream",
     "name": "stdout",
     "text": [
      "Du er millionær.\n"
     ]
    }
   ],
   "source": [
    "if formue < 1000000:\n",
    "    print(\"Du er enda ikke millionær.\")\n",
    "\n",
    "elif formue > 20000000:\n",
    "    print(\"Du er mangemillionær.\")\n",
    "\n",
    "else:\n",
    "    print(\"Du er millionær.\")"
   ]
  },
  {
   "cell_type": "code",
   "execution_count": 21,
   "metadata": {},
   "outputs": [
    {
     "output_type": "stream",
     "name": "stdout",
     "text": [
      "Du er millionær.\n"
     ]
    }
   ],
   "source": [
    "if formue < 1000000:\n",
    "    print(\"Du er enda ikke millionær.\")\n",
    "\n",
    "elif 1000000 <= formue < 20000000:\n",
    "    print(\"Du er millionær.\")\n",
    "\n",
    "else:\n",
    "    print(\"Du er mangemillionær.\")\n"
   ]
  },
  {
   "source": [
    "## Løkker"
   ],
   "cell_type": "markdown",
   "metadata": {}
  },
  {
   "cell_type": "code",
   "execution_count": 33,
   "metadata": {},
   "outputs": [
    {
     "output_type": "stream",
     "name": "stdout",
     "text": [
      "Gratulerer med  1-årsdagen, Mario!\nGratulerer med  2-årsdagen, Mario!\nGratulerer med  3-årsdagen, Mario!\nGratulerer med  4-årsdagen, Mario!\nGratulerer med  5-årsdagen, Mario!\nGratulerer med  6-årsdagen, Mario!\nGratulerer med  7-årsdagen, Mario!\nGratulerer med  8-årsdagen, Mario!\nGratulerer med  9-årsdagen, Mario!\nGratulerer med 10-årsdagen, Mario!\nGratulerer med 11-årsdagen, Mario!\nGratulerer med 12-årsdagen, Mario!\nGratulerer med 13-årsdagen, Mario!\nGratulerer med 14-årsdagen, Mario!\nGratulerer med 15-årsdagen, Mario!\nGratulerer med 16-årsdagen, Mario!\nGratulerer med 17-årsdagen, Mario!\nGratulerer med 18-årsdagen, Mario!\nGratulerer med 19-årsdagen, Mario!\nGratulerer med 20-årsdagen, Mario!\nGratulerer med 21-årsdagen, Mario!\nGratulerer med 22-årsdagen, Mario!\nGratulerer med 23-årsdagen, Mario!\nGratulerer med 24-årsdagen, Mario!\nGratulerer med 25-årsdagen, Mario!\nGratulerer med 26-årsdagen, Mario!\nGratulerer med 27-årsdagen, Mario!\nGratulerer med 28-årsdagen, Mario!\nGratulerer med 29-årsdagen, Mario!\nGratulerer med 30-årsdagen, Mario!\nGratulerer med 31-årsdagen, Mario!\nGratulerer med 32-årsdagen, Mario!\nGratulerer med 33-årsdagen, Mario!\nGratulerer med 34-årsdagen, Mario!\nGratulerer med 35-årsdagen, Mario!\n"
     ]
    }
   ],
   "source": [
    "for år in range(1, alder+1):\n",
    "    print(f\"Gratulerer med {år:2}-årsdagen, {navn}!\")"
   ]
  },
  {
   "source": [
    "## Funksjoner"
   ],
   "cell_type": "markdown",
   "metadata": {}
  },
  {
   "cell_type": "code",
   "execution_count": 24,
   "metadata": {},
   "outputs": [
    {
     "output_type": "stream",
     "name": "stdout",
     "text": [
      "Gratulerer med 2020-årsdagen, Jesus!\n"
     ]
    }
   ],
   "source": [
    "def gratulasjonshilsen(alder, navn):\n",
    "    print(f\"Gratulerer med {alder:2}-årsdagen, {navn}!\")\n",
    "\n",
    "gratulasjonshilsen(2020, \"Jesus\")"
   ]
  },
  {
   "cell_type": "code",
   "execution_count": 25,
   "metadata": {},
   "outputs": [
    {
     "output_type": "stream",
     "name": "stdout",
     "text": [
      "Gratulerer med 378-årsdagen, Isaac Newton!\n"
     ]
    }
   ],
   "source": [
    "gratulasjonshilsen(378, \"Isaac Newton\")"
   ]
  },
  {
   "cell_type": "code",
   "execution_count": 26,
   "metadata": {},
   "outputs": [
    {
     "output_type": "stream",
     "name": "stdout",
     "text": [
      "Gratulerer med 378-årsdagen, Isaac Newton!\n"
     ]
    }
   ],
   "source": [
    "def gratulasjonshilsen(alder, navn):\n",
    "    return f\"Gratulerer med {alder:2}-årsdagen, {navn}!\"\n",
    "\n",
    "print(gratulasjonshilsen(378, \"Isaac Newton\"))"
   ]
  },
  {
   "source": [
    "## Lister"
   ],
   "cell_type": "markdown",
   "metadata": {}
  },
  {
   "cell_type": "code",
   "execution_count": 29,
   "metadata": {},
   "outputs": [
    {
     "output_type": "stream",
     "name": "stdout",
     "text": [
      "7\n"
     ]
    }
   ],
   "source": [
    "tallene = [2, 4, 7 ,1, 7, 1, 0, 123, 15, 122, 54, 0, 84]\n",
    "print(tallene[2])"
   ]
  },
  {
   "cell_type": "code",
   "execution_count": 30,
   "metadata": {},
   "outputs": [
    {
     "output_type": "stream",
     "name": "stdout",
     "text": [
      "2\n4\n7\n1\n7\n1\n0\n123\n15\n122\n54\n0\n84\n"
     ]
    }
   ],
   "source": [
    "for tall in tallene:\n",
    "    print(tall)"
   ]
  },
  {
   "cell_type": "code",
   "execution_count": 31,
   "metadata": {},
   "outputs": [
    {
     "output_type": "stream",
     "name": "stdout",
     "text": [
      "420\n"
     ]
    }
   ],
   "source": [
    "sum = 0\n",
    "for tall in tallene:\n",
    "    sum = sum + tall\n",
    "    \n",
    "print(sum)"
   ]
  },
  {
   "cell_type": "code",
   "execution_count": 1,
   "metadata": {},
   "outputs": [
    {
     "output_type": "stream",
     "name": "stdout",
     "text": [
      "En\nListe\nMed\nOrd\n"
     ]
    }
   ],
   "source": [
    "ordene = [\"En\", \"Liste\", \"Med\", \"Ord\"]\n",
    "for ord in ordene:\n",
    "    print(ord)"
   ]
  },
  {
   "source": [
    "## Dictionary"
   ],
   "cell_type": "markdown",
   "metadata": {}
  },
  {
   "cell_type": "code",
   "execution_count": 6,
   "metadata": {},
   "outputs": [
    {
     "output_type": "stream",
     "name": "stdout",
     "text": [
      "{'navn': 'Mario', 'alder': 35, 'høyde': 167}\nMario\n35\n"
     ]
    }
   ],
   "source": [
    "person = {\n",
    "    \"navn\": \"Mario\", \n",
    "    \"alder\": 35,\n",
    "    \"høyde\": 167\n",
    "    }\n",
    "\n",
    "print(person)\n",
    "print(person[\"navn\"])\n",
    "print(person[\"alder\"])"
   ]
  },
  {
   "cell_type": "code",
   "execution_count": 18,
   "metadata": {},
   "outputs": [
    {
     "output_type": "stream",
     "name": "stdout",
     "text": [
      "Kjøp Nissan Skyline r32 GTR fra 1989 til kun 400000.00 kr.\n"
     ]
    }
   ],
   "source": [
    "bil = {\n",
    "    \"merke\": \"Nissan\",\n",
    "    \"modell\": \"Skyline r32 GTR\",\n",
    "    \"år\": 1989,\n",
    "    \"elbil\": False,\n",
    "    \"pris\": 400_000.00\n",
    "    }\n",
    "\n",
    "print(f'Kjøp {bil[\"merke\"]} {bil[\"modell\"]} fra {bil[\"år\"]} til kun {bil[\"pris\"]:.2f} kr.')"
   ]
  },
  {
   "cell_type": "code",
   "execution_count": null,
   "metadata": {},
   "outputs": [],
   "source": []
  }
 ]
}