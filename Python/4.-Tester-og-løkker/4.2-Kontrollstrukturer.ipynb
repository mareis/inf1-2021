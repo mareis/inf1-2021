{
 "cells": [
  {
   "cell_type": "markdown",
   "metadata": {
    "pycharm": {}
   },
   "source": [
    "# Løkker\n",
    "\n",
    "\n",
    "**I programmering har vi ofte behov for å gjenta kode mange ganger. For å få til dette bruker man løkker. Løkker har mye til felles med tester, men med den forskjellen at i en løkke gjentas kode intill en betingelse er sann eller usann.**\n",
    "\n",
    "Det finnes to hovedtyper løkker - for-løkker og while-løkker:\n",
    "\n",
    "+ **for** - Gjentar kode et gitt antall ganger\n",
    "+ **while** - Gjentar kode sålenge en betingelse er sann\n",
    "\n",
    "## For-løkker\n",
    "\n",
    "I en for-løkke bestemmer vi hvor mange ganger en kode skal gjentas. Alt dette gjøres i deklarasjonen av løkka. Legg spesielt merke til kommandoen [_range()_](https://docs.python.org/3/library/stdtypes.html#range).\n",
    "\n",
    "### Eksempel 1"
   ]
  },
  {
   "cell_type": "code",
   "execution_count": 1,
   "metadata": {
    "pycharm": {
     "is_executing": false
    }
   },
   "outputs": [
    {
     "output_type": "stream",
     "name": "stdout",
     "text": [
      "Tellevariabelen tall har nå verdien 0\nTellevariabelen tall har nå verdien 1\nTellevariabelen tall har nå verdien 2\nTellevariabelen tall har nå verdien 3\nTellevariabelen tall har nå verdien 4\nTellevariabelen tall har nå verdien 5\nTellevariabelen tall har nå verdien 6\nTellevariabelen tall har nå verdien 7\nTellevariabelen tall har nå verdien 8\nTellevariabelen tall har nå verdien 9\n"
     ]
    }
   ],
   "source": [
    "for tall in range(10):\n",
    "    print(\"Tellevariabelen tall har nå verdien\", tall)"
   ]
  },
  {
   "cell_type": "code",
   "execution_count": 2,
   "metadata": {},
   "outputs": [
    {
     "output_type": "stream",
     "name": "stdout",
     "text": [
      "A\nA\nA\n"
     ]
    }
   ],
   "source": [
    "navn = 'ADA LOVELASE'\n",
    "funnet = False\n",
    "for bokstav in navn:\n",
    "    if bokstav == 'A':\n",
    "        print(bokstav)\n",
    "        funnet = True\n",
    "\n",
    "if not(funnet):\n",
    "    print('Det var ikke C i navnet');"
   ]
  },
  {
   "cell_type": "markdown",
   "metadata": {
    "pycharm": {}
   },
   "source": [
    "### Underveisoppgave\n",
    "Lag en løkke som skriver ut navnet ditt 5 ganger"
   ]
  },
  {
   "cell_type": "code",
   "execution_count": null,
   "metadata": {
    "pycharm": {
     "is_executing": false
    }
   },
   "outputs": [],
   "source": [
    "# koden din her\n"
   ]
  },
  {
   "cell_type": "markdown",
   "metadata": {
    "pycharm": {}
   },
   "source": [
    "## for in\n",
    "\n",
    "En annen variant av for-løkker er _for in_. Denne er veldig nyttig når man skal traversere alle elementene i en [liste](https://developers.google.com/edu/python/lists) eller andre kolleksjoner av variabler.\n",
    "\n",
    "### Eksempel 2"
   ]
  },
  {
   "cell_type": "code",
   "execution_count": null,
   "metadata": {
    "pycharm": {
     "is_executing": false
    }
   },
   "outputs": [],
   "source": [
    "tekst = 'Hallo verden!'\n",
    "for tegn in tekst:\n",
    "    print(f'Nå skriver vi ut: {tegn}')"
   ]
  },
  {
   "cell_type": "markdown",
   "metadata": {
    "pycharm": {}
   },
   "source": [
    "### Eksempel 3"
   ]
  },
  {
   "cell_type": "code",
   "execution_count": null,
   "metadata": {
    "pycharm": {
     "is_executing": false
    }
   },
   "outputs": [],
   "source": [
    "#range(fra, til, steglengde)\n",
    "for i in range(1, 10, 2):\n",
    "    print(i)"
   ]
  },
  {
   "cell_type": "markdown",
   "metadata": {
    "pycharm": {}
   },
   "source": [
    "### Underveisoppgaver\n",
    "1. Lag en for-løkke som teller fra 0 til 20."
   ]
  },
  {
   "cell_type": "code",
   "execution_count": null,
   "metadata": {
    "pycharm": {
     "is_executing": false
    }
   },
   "outputs": [],
   "source": []
  },
  {
   "cell_type": "markdown",
   "metadata": {
    "pycharm": {}
   },
   "source": [
    "2. Lag en for-løkke som teller fra 10 til 1."
   ]
  },
  {
   "cell_type": "code",
   "execution_count": null,
   "metadata": {
    "pycharm": {}
   },
   "outputs": [],
   "source": []
  },
  {
   "cell_type": "markdown",
   "metadata": {
    "pycharm": {}
   },
   "source": [
    "3. Lag en for-løkke som teller annenhvert tall fra 10 til 50."
   ]
  },
  {
   "cell_type": "code",
   "execution_count": null,
   "metadata": {
    "pycharm": {}
   },
   "outputs": [],
   "source": []
  },
  {
   "cell_type": "markdown",
   "metadata": {},
   "source": [
    " 4. Lag en funksjon som returnerer en en kvadrat av * med sidelengde som det samme som argumentet du gir funksjonen.\n",
    " \n",
    " \n"
   ]
  },
  {
   "cell_type": "code",
   "execution_count": null,
   "metadata": {},
   "outputs": [],
   "source": [
    "# lag_kvadrat(3) skal returnere\n",
    "# * * * \n",
    "# * * *\n",
    "# * * *\n"
   ]
  },
  {
   "cell_type": "markdown",
   "metadata": {},
   "source": [
    " 5. Lag en funksjon som skriver ut en pyramide med høyde lik som argumentet du gir funksjonen."
   ]
  },
  {
   "cell_type": "code",
   "execution_count": null,
   "metadata": {},
   "outputs": [],
   "source": [
    "# lag_pyramide(3) skal returnere\n",
    "#   *  \n",
    "#  * * \n",
    "# * * *"
   ]
  },
  {
   "cell_type": "code",
   "execution_count": null,
   "metadata": {},
   "outputs": [],
   "source": []
  },
  {
   "source": [
    "### While-løkker"
   ],
   "cell_type": "markdown",
   "metadata": {}
  },
  {
   "cell_type": "code",
   "execution_count": null,
   "metadata": {
    "pycharm": {}
   },
   "outputs": [],
   "source": [
    "teller = 0\n",
    "while teller < 9:\n",
    "   print(\"Telleren har nå verdien:\", teller)\n",
    "   teller = teller + 1\n",
    "   \n",
    "print(\"while-løkken er nå avsluttet\")"
   ]
  },
  {
   "cell_type": "code",
   "execution_count": null,
   "metadata": {
    "collapsed": true,
    "jupyter": {
     "outputs_hidden": true
    },
    "pycharm": {}
   },
   "outputs": [],
   "source": []
  }
 ],
 "metadata": {
  "kernelspec": {
   "name": "python3",
   "display_name": "Python 3.8.2 64-bit",
   "metadata": {
    "interpreter": {
     "hash": "31f2aee4e71d21fbe5cf8b01ff0e069b9275f58929596ceb00d14d90e3e16cd6"
    }
   }
  },
  "language_info": {
   "codemirror_mode": {
    "name": "ipython",
    "version": 3
   },
   "file_extension": ".py",
   "mimetype": "text/x-python",
   "name": "python",
   "nbconvert_exporter": "python",
   "pygments_lexer": "ipython3",
   "version": "3.8.2-final"
  }
 },
 "nbformat": 4,
 "nbformat_minor": 4
}